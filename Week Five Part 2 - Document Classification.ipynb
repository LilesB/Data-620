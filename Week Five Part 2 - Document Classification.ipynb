{
 "cells": [
  {
   "cell_type": "code",
   "execution_count": null,
   "metadata": {},
   "outputs": [],
   "source": [
    "#Brian K Liles\n",
    "#Week Five Part 2 - Document Classification"
   ]
  },
  {
   "cell_type": "code",
   "execution_count": null,
   "metadata": {},
   "outputs": [],
   "source": [
    "#Overview\n",
    "'''It can be useful to be able to classify new \"test\" documents using already classified \"training\" documents.\n",
    "A common example is using a corpus of labeled spam and ham (non-spam) e-mails to predict whether or not a new \n",
    "document is spam.'''"
   ]
  },
  {
   "cell_type": "code",
   "execution_count": null,
   "metadata": {},
   "outputs": [],
   "source": [
    "#Goal\n",
    "#For this assignment I will be using the **spam** data set, which was downloaded from www.kaggle.com"
   ]
  },
  {
   "cell_type": "code",
   "execution_count": 1,
   "metadata": {},
   "outputs": [
    {
     "name": "stderr",
     "output_type": "stream",
     "text": [
      "-- Attaching packages --------------------------------------- tidyverse 1.2.1 --\n",
      "v ggplot2 3.0.0     v purrr   0.2.5\n",
      "v tibble  1.4.2     v dplyr   0.7.6\n",
      "v tidyr   0.8.1     v stringr 1.3.1\n",
      "v readr   1.1.1     v forcats 0.3.0\n",
      "-- Conflicts ------------------------------------------ tidyverse_conflicts() --\n",
      "x dplyr::filter() masks stats::filter()\n",
      "x dplyr::lag()    masks stats::lag()\n",
      "Type 'citation(\"pROC\")' for a citation.\n",
      "\n",
      "Attaching package: 'pROC'\n",
      "\n",
      "The following objects are masked from 'package:stats':\n",
      "\n",
      "    cov, smooth, var\n",
      "\n",
      "Package version: 1.3.4\n",
      "Parallel computing: 2 of 4 threads used.\n",
      "See https://quanteda.io for tutorials and examples.\n",
      "\n",
      "Attaching package: 'quanteda'\n",
      "\n",
      "The following object is masked from 'jupyter:irkernel':\n",
      "\n",
      "    View\n",
      "\n",
      "The following object is masked from 'package:utils':\n",
      "\n",
      "    View\n",
      "\n"
     ]
    }
   ],
   "source": [
    "# Libraries\n",
    "library(tidyverse)\n",
    "library(pROC)\n",
    "library(quanteda)"
   ]
  },
  {
   "cell_type": "code",
   "execution_count": null,
   "metadata": {},
   "outputs": [],
   "source": [
    "#Data \n",
    "'''Data was copied from **Kaggle** and added to the github page listed within the **read.csv** statement.\n",
    "\n",
    "With the **tbl_df** statement from the **dplyr** package a data frame was created.'''"
   ]
  },
  {
   "cell_type": "code",
   "execution_count": 2,
   "metadata": {},
   "outputs": [],
   "source": [
    "spam <- read.csv(\"https://raw.githubusercontent.com/LilesB/Data-620/master/spam.csv\", header=TRUE, sep = \",\", quote = '\\\"\\\"', stringsAsFactors=FALSE)"
   ]
  },
  {
   "cell_type": "code",
   "execution_count": 3,
   "metadata": {},
   "outputs": [
    {
     "name": "stdout",
     "output_type": "stream",
     "text": [
      "Observations: 5,572\n",
      "Variables: 5\n",
      "$ v1  <chr> \"ham\", \"ham\", \"spam\", \"ham\", \"ham\", \"spam\", \"ham\", \"ham\", \"spam...\n",
      "$ v2  <chr> \"Go until jurong point, crazy.. Available only in bugis n great...\n",
      "$ X   <chr> \"\", \"\", \"\", \"\", \"\", \"\", \"\", \"\", \"\", \"\", \"\", \"\", \"\", \"\", \"\", \"\",...\n",
      "$ X.1 <chr> \"\", \"\", \"\", \"\", \"\", \"\", \"\", \"\", \"\", \"\", \"\", \"\", \"\", \"\", \"\", \"\",...\n",
      "$ X.2 <chr> \"\", \"\", \"\", \"\", \"\", \"\", \"\", \"\", \"\", \"\", \"\", \"\", \"\", \"\", \"\", \"\",...\n"
     ]
    }
   ],
   "source": [
    "#Using the **glimpse** function from the **tidyverse** we will look at the **spam** dataset\n",
    "glimpse(spam)"
   ]
  },
  {
   "cell_type": "code",
   "execution_count": 4,
   "metadata": {},
   "outputs": [
    {
     "name": "stdout",
     "output_type": "stream",
     "text": [
      "Observations: 5,572\n",
      "Variables: 2\n",
      "$ v1 <chr> \"ham\", \"ham\", \"spam\", \"ham\", \"ham\", \"spam\", \"ham\", \"ham\", \"spam\"...\n",
      "$ v2 <chr> \"Go until jurong point, crazy.. Available only in bugis n great ...\n"
     ]
    }
   ],
   "source": [
    "#Based off the information provided by the **glimpse** function, we will remove the last three variables.\n",
    "spam <- spam %>%\n",
    "    select(v1,v2)\n",
    "glimpse(spam)"
   ]
  },
  {
   "cell_type": "code",
   "execution_count": 5,
   "metadata": {},
   "outputs": [
    {
     "name": "stdout",
     "output_type": "stream",
     "text": [
      "Observations: 5,572\n",
      "Variables: 2\n",
      "$ email    <chr> \"ham\", \"ham\", \"spam\", \"ham\", \"ham\", \"spam\", \"ham\", \"ham\", ...\n",
      "$ contents <chr> \"Go until jurong point, crazy.. Available only in bugis n ...\n"
     ]
    }
   ],
   "source": [
    "#Now we have a manageable data set with 5,572 observations and 2 variables to work with. Next, we will change the names of the columns.\n",
    "colnames(spam) <- c(\"email\",\"contents\")\n",
    "glimpse(spam)"
   ]
  },
  {
   "cell_type": "code",
   "execution_count": 6,
   "metadata": {},
   "outputs": [
    {
     "name": "stdout",
     "output_type": "stream",
     "text": [
      "Frequency of Ham & Spam Emails \n"
     ]
    },
    {
     "data": {
      "text/plain": [
       "\n",
       " ham spam \n",
       "4825  747 "
      ]
     },
     "metadata": {},
     "output_type": "display_data"
    }
   ],
   "source": [
    "#Next, we will use the **table** function to determine the tally of ham vs spam\n",
    "cat(\"Frequency of Ham & Spam Emails\",\"\\n\")\n",
    "table(spam$email)"
   ]
  },
  {
   "cell_type": "code",
   "execution_count": 7,
   "metadata": {},
   "outputs": [
    {
     "data": {},
     "metadata": {},
     "output_type": "display_data"
    },
    {
     "data": {
      "image/png": "[encoded data removed]",
      "text/plain": [
       "plot without title"
      ]
     },
     "metadata": {},
     "output_type": "display_data"
    }
   ],
   "source": [
    "#To create a visual, we will utilize the **ggplot** package to view a bar chart of the data\n",
    "ggplot(data = spam, aes(x = email)) +\n",
    "  geom_bar(fill = \"gray\", width = 0.5) +\n",
    "  xlab(\"Email Variable\") +\n",
    "  ylab(\"Number of Emails\") +\n",
    "  ggtitle(\"Distribution of Emails \\n Ham versus Spam\") "
   ]
  },
  {
   "cell_type": "code",
   "execution_count": 8,
   "metadata": {},
   "outputs": [],
   "source": [
    "#Training & Test Data Sets\n",
    "spamTrain <- spam[1:4458,]\n",
    "spamTest <- spam[4458:nrow(spam),]"
   ]
  },
  {
   "cell_type": "code",
   "execution_count": 13,
   "metadata": {},
   "outputs": [
    {
     "data": {
      "text/plain": [
       "\n",
       " ham spam \n",
       "3856  602 "
      ]
     },
     "metadata": {},
     "output_type": "display_data"
    }
   ],
   "source": [
    "# check the allocation of spam/no spam data for the training data set\n",
    "table(spamTrain$email)\n",
    "#Here we see that 3,856 ham emails and 602 spam emails "
   ]
  },
  {
   "cell_type": "code",
   "execution_count": 10,
   "metadata": {},
   "outputs": [
    {
     "data": {
      "text/plain": [
       "\n",
       " ham spam \n",
       " 970  145 "
      ]
     },
     "metadata": {},
     "output_type": "display_data"
    }
   ],
   "source": [
    "# check the allocation of spam/no spam data for the testing data set\n",
    "table(spamTest$email)\n",
    "#Here we see that 970 ham emails and 145 spam emails "
   ]
  },
  {
   "cell_type": "code",
   "execution_count": 11,
   "metadata": {},
   "outputs": [
    {
     "ename": "ERROR",
     "evalue": "Error in parse(text = x, srcfile = src): <text>:2:3: unexpected string constant\n3: classifiers have been especially popular for text classification, and are a traditional solution for problems such as \n4: spam detection.'\n     ^\n",
     "output_type": "error",
     "traceback": [
      "Error in parse(text = x, srcfile = src): <text>:2:3: unexpected string constant\n3: classifiers have been especially popular for text classification, and are a traditional solution for problems such as \n4: spam detection.'\n     ^\nTraceback:\n"
     ]
    }
   ],
   "source": [
    "##Naive Bayes Classifier\n",
    "'''According to https://towardsdatascience.com/introduction-to-naive-bayes-classification-4cffabb1ae54 **Naive Bayes**\n",
    "classifiers have been especially popular for text classification, and are a traditional solution for problems such as \n",
    "spam detection.'''\n",
    "#With the **quanteda** package, our first step is to create a corpus based on the **content** column\n",
    "# construct a corpus object based on data in the content column\n",
    "contentCorpus <- corpus(spam$contents) "
   ]
  },
  {
   "cell_type": "code",
   "execution_count": 12,
   "metadata": {},
   "outputs": [
    {
     "ename": "ERROR",
     "evalue": "Error in docvars(contentCorpus) <- spam$email: object 'contentCorpus' not found\n",
     "output_type": "error",
     "traceback": [
      "Error in docvars(contentCorpus) <- spam$email: object 'contentCorpus' not found\nTraceback:\n"
     ]
    }
   ],
   "source": [
    "# assign value to the email column\n",
    "docvars(contentCorpus) <- spam$email"
   ]
  },
  {
   "cell_type": "code",
   "execution_count": null,
   "metadata": {},
   "outputs": [],
   "source": [
    "#Next, we will create a document-feature matrix based off **contentCorpus**\n",
    "dfm <- dfm(contentCorpus, tolower=TRUE)\n",
    "# set the minimum and maximum frequencies \n",
    "dfm <- dfm_trim(dfm, min_docfreq = 3)\n",
    "dfm <- dfm_weight(dfm)"
   ]
  },
  {
   "cell_type": "code",
   "execution_count": null,
   "metadata": {},
   "outputs": [],
   "source": [
    "dfmTrain <- dfm[1:4458,]\n",
    "dfmTest <- dfm[4458:nrow(spam),]"
   ]
  },
  {
   "cell_type": "code",
   "execution_count": null,
   "metadata": {},
   "outputs": [],
   "source": [
    "#We can now run the Naive Bayes classifier\n",
    "(naiveBayes <- textmodel_nb(dfmTrain,spamTrain[,1]))"
   ]
  },
  {
   "cell_type": "code",
   "execution_count": null,
   "metadata": {},
   "outputs": [],
   "source": [
    "#Next, we will run a prediction utilizing the **predict** function\n",
    "prediction <- predict(naiveBayes,dfmTest)"
   ]
  },
  {
   "cell_type": "code",
   "execution_count": null,
   "metadata": {},
   "outputs": [],
   "source": [
    "#Next, using the **table** function we will view the predictions\n",
    "table(prediction, actual = spamTest[,1])"
   ]
  },
  {
   "cell_type": "code",
   "execution_count": null,
   "metadata": {},
   "outputs": [],
   "source": [
    "#Lastly, we will check the accuracy of the model by using the **pROC** package and also checking the accuracy of the test\n",
    "mean(prediction == spamTest[,1])*100"
   ]
  },
  {
   "cell_type": "code",
   "execution_count": null,
   "metadata": {},
   "outputs": [],
   "source": [
    "predictNum <- ifelse(prediction == \"spam\",1,2)\n",
    "aucTest <- roc(as.factor(spamTest[,1]),predictNum)\n",
    "plot(aucTest)"
   ]
  }
 ],
 "metadata": {
  "kernelspec": {
   "display_name": "R",
   "language": "R",
   "name": "ir"
  },
  "language_info": {
   "codemirror_mode": "r",
   "file_extension": ".r",
   "mimetype": "text/x-r-source",
   "name": "R",
   "pygments_lexer": "r",
   "version": "3.5.1"
  }
 },
 "nbformat": 4,
 "nbformat_minor": 2
}
